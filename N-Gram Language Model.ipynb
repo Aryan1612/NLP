{
 "cells": [
  {
   "cell_type": "markdown",
   "metadata": {},
   "source": [
    "## Necessary Imports"
   ]
  },
  {
   "cell_type": "code",
   "execution_count": 1,
   "metadata": {},
   "outputs": [],
   "source": [
    "import pandas as pd\n",
    "import numpy as np\n",
    "import spacy\n",
    "import numpy as np\n",
    "import pandas as pd\n",
    "from nltk.corpus import stopwords\n",
    "from tqdm import tqdm\n",
    "import re\n",
    "import os\n",
    "import json\n",
    "from collections import defaultdict"
   ]
  },
  {
   "cell_type": "markdown",
   "metadata": {},
   "source": [
    "## A. Dataset and Preprocessing:\n"
   ]
  },
  {
   "cell_type": "code",
   "execution_count": 7,
   "metadata": {},
   "outputs": [],
   "source": [
    "train_path = 'train.csv'\n",
    "test_path = 'test.csv'\n",
    "\n",
    "train_df = pd.read_csv(train_path)\n",
    "test_df = pd.read_csv(test_path)\n",
    "\n",
    "training_data = []\n",
    "test_data = []\n",
    "validation_data = []"
   ]
  },
  {
   "cell_type": "code",
   "execution_count": null,
   "metadata": {},
   "outputs": [],
   "source": [
    "def create_datasets(train_df, test_df):\n",
    "    shuffled = np.random.permutation(len(train_df)) #to randomly get 100 indices for validation dataset creation\n",
    "    validation_indices = shuffled[:100]\n",
    "    \n",
    "    training_data = []\n",
    "    validation_data = []\n",
    "    test_data = []\n",
    "    \n",
    "    for index, row in train_df.iterrows():\n",
    "        if index not in validation_indices:\n",
    "            training_data.append(row['text'])\n",
    "        else:\n",
    "            validation_data.append(row['text'])\n",
    "            \n",
    "    for index, row in test_df.iterrows():\n",
    "        test_data.append(row['text'])\n",
    "                    \n",
    "    return [training_data, test_data, validation_data]\n",
    "\n",
    "training_data, test_data, validation_data = create_datasets(train_df=train_df, test_df=test_df)"
   ]
  },
  {
   "cell_type": "code",
   "execution_count": null,
   "metadata": {},
   "outputs": [
    {
     "name": "stderr",
     "output_type": "stream",
     "text": [
      "preprocessing dataset...: 100%|██████████| 13779/13779 [1:22:26<00:00,  2.79it/s]  \n",
      "preprocessing dataset...: 100%|██████████| 100/100 [00:37<00:00,  2.68it/s]\n",
      "preprocessing dataset...: 100%|██████████| 100/100 [00:32<00:00,  3.10it/s]\n"
     ]
    },
    {
     "name": "stdout",
     "output_type": "stream",
     "text": [
      "saving processed_data to /Users/aryan/Desktop/KGP_MnC/6thSEM/NLP/processed_data_with_lemmatizer.json\n"
     ]
    }
   ],
   "source": [
    "def pre_process_data(spacy_model, data):\n",
    "    \n",
    "    processed_list = []\n",
    "    stop_words = set(stopwords.words(\"english\"))\n",
    "    \n",
    "    for text in tqdm(data, desc = 'preprocessing dataset...'):\n",
    "        \n",
    "        text = text.lower()         \n",
    "        text = re.sub(r'[^a-zA-Z\\s]', '', text)         # subsitituting any non english alphabet with ''\n",
    "        text = ' '.join(text.split())               #joining all the words to form a sentence\n",
    "\n",
    "        tokens = spacy_model(text)              #tokenization part, i.e lemmatization is done and sentence split into words\n",
    "        \n",
    "        processed_tokens = [token.lemma_ for token in tokens if token.text.isalpha() and token.text not in stop_words and token.text.strip() != \"\"]                 # only adding those tokens that have text as alphabets and no punctuation or stopwords in them\n",
    "        \n",
    "        processed_list.append(processed_tokens)\n",
    "        \n",
    "    return processed_list\n",
    "\n",
    "def clean_data(training_data, test_data, validation_data):\n",
    "    \n",
    "    spacy_model = spacy.load(\"en_core_web_sm\")\n",
    "        \n",
    "    \n",
    "    curr_dirr = os.getcwd()\n",
    "    data_path = os.path.join(curr_dirr, 'processed_data_with_lemmatizer.json')\n",
    "    \n",
    "    print(f'saving processed_data to {data_path}')\n",
    "    \n",
    "    training_data = pre_process_data(spacy_model=spacy_model, data = training_data)\n",
    "    test_data = pre_process_data(spacy_model=spacy_model, data = test_data)\n",
    "    validation_data = pre_process_data(spacy_model=spacy_model, data = validation_data)\n",
    "    \n",
    "    data_dict = {'training_data' : training_data, 'test_data' : test_data, 'validation_data' : validation_data  }\n",
    "    \n",
    "    data_list = [data_dict]\n",
    "    \n",
    "    with open(data_path, 'w') as file:\n",
    "        json.dump(data_list, file, indent = 4)\n",
    "        \n",
    "    return\n",
    "\n",
    "clean_data(training_data=training_data, test_data=test_data, validation_data=validation_data)"
   ]
  },
  {
   "cell_type": "markdown",
   "metadata": {},
   "source": [
    "## B. Estimation Using Maximum Likelihood:\n"
   ]
  },
  {
   "cell_type": "code",
   "execution_count": null,
   "metadata": {},
   "outputs": [],
   "source": [
    "def create_ngram_model(data, n=1):\n",
    "    total_ngrams = 0\n",
    "    n_gram_counts = defaultdict(int)\n",
    "    total_articles = len(data)\n",
    "    n_1gram_counts = defaultdict(int)\n",
    "    ngram_unique_article_counts = defaultdict(int)\n",
    "    \n",
    "    for article in tqdm(data, desc='processing articles..'):\n",
    "        ngram_seen_in_article_set = set()  \n",
    "        for i in range(len(article) - n + 1):\n",
    "            ngram = tuple(article[i:i + n])  \n",
    "            n_gram_counts[ngram] += 1\n",
    "            total_ngrams += 1\n",
    "            if n > 1:  # (n-1)-gram for bigrams, trigrams, etc.\n",
    "                n_1gram_counts[ngram[:-1]] += 1  # Count the (n-1)-gram (prefix of the n-gram)\n",
    "            \n",
    "            if ngram not in ngram_seen_in_article_set:\n",
    "                ngram_unique_article_counts[ngram] += 1  # count the occurrence of an ngram only once per article\n",
    "                ngram_seen_in_article_set.add(ngram)  # to mark the ngram as seen in the article\n",
    "        \n",
    "    # to filter the articles that appear in atleast 1% of all the articles\n",
    "    vocabulary = {ngram: n_gram_counts[ngram] for ngram, count in ngram_unique_article_counts.items() if count >= 0.01*total_articles}\n",
    "    V = len(vocabulary)            \n",
    "    \n",
    "    # MLE Estimation and laplace smoothing for all ngrams\n",
    "    ngram_probabilities = {}\n",
    "    for ngram, count in tqdm(n_gram_counts.items(), desc = 'calculating probabilities....'):\n",
    "        if n == 1: \n",
    "            ngram_probabilities[ngram] = (count + 1)/ (total_ngrams + V)  \n",
    "        else:  # For bigrams, trigrams, etc.\n",
    "            n_1gram = ngram[:-1]  # the n-1 gram for the bigram, trigram etc\n",
    "            n_1gram_count = n_1gram_counts[n_1gram]  # no of time the n-1 gram appears\n",
    "            ngram_probabilities[ngram] = (count+1) / (n_1gram_count + V)  # laplace smoothing with MLE\n",
    "    \n",
    "    return (ngram_probabilities, n_1gram_counts, V)"
   ]
  },
  {
   "cell_type": "code",
   "execution_count": 5,
   "metadata": {},
   "outputs": [
    {
     "name": "stderr",
     "output_type": "stream",
     "text": [
      "processing articles..: 100%|██████████| 13779/13779 [01:25<00:00, 160.59it/s]\n",
      "calculating probabilities....: 100%|██████████| 15602595/15602595 [00:35<00:00, 443647.73it/s]\n",
      "processing articles..: 100%|██████████| 13779/13779 [00:33<00:00, 416.92it/s]\n",
      "calculating probabilities....: 100%|██████████| 7613173/7613173 [00:05<00:00, 1479540.34it/s]\n",
      "processing articles..: 100%|██████████| 13779/13779 [00:08<00:00, 1600.56it/s]\n",
      "calculating probabilities....: 100%|██████████| 449270/449270 [00:00<00:00, 3089270.95it/s]\n"
     ]
    }
   ],
   "source": [
    "data_path = 'processed_data_with_lemmatizer.json'\n",
    "\n",
    "with open(data_path, 'r', encoding=\"utf-8\") as file:\n",
    "    data = json.load(file)\n",
    "    training_data = data[0]['training_data']\n",
    "    validation_data = data[0]['validation_data']\n",
    "    test_data = data[0]['test_data']\n",
    "    \n",
    "trigram_model = create_ngram_model(data=training_data, n = 3)\n",
    "bigram_model =  create_ngram_model(data=training_data, n = 2)   \n",
    "unigram_model = create_ngram_model(data=training_data, n = 1)\n"
   ]
  },
  {
   "cell_type": "code",
   "execution_count": 6,
   "metadata": {},
   "outputs": [],
   "source": [
    "unigram_probabilities, unigram_n_1_counts, unigram_vocab_size = unigram_model\n",
    "bigram_probabilities, bigram_n_1_counts, bigram_vocab_size = bigram_model\n",
    "trigram_probabilities, trigram_n_1_counts, trigram_vocab_size = trigram_model"
   ]
  },
  {
   "cell_type": "markdown",
   "metadata": {},
   "source": [
    "## C. Evaluating an n-Gram Model using Perplexity: \n"
   ]
  },
  {
   "cell_type": "code",
   "execution_count": null,
   "metadata": {},
   "outputs": [
    {
     "name": "stderr",
     "output_type": "stream",
     "text": [
      "calculating perplexity for articles....: 100%|██████████| 100/100 [00:00<00:00, 304.94it/s]\n",
      "calculating perplexity for articles....: 100%|██████████| 100/100 [00:00<00:00, 101.65it/s]\n",
      "calculating perplexity for articles....: 100%|██████████| 100/100 [00:02<00:00, 47.03it/s]"
     ]
    },
    {
     "name": "stdout",
     "output_type": "stream",
     "text": [
      "perplexity for unigram = 6439.512962763581\n",
      "\n",
      "perplexity for bigram = 1237.20352695804\n",
      "\n",
      "perplexity for trigram = 552.9354736657151\n"
     ]
    },
    {
     "name": "stderr",
     "output_type": "stream",
     "text": [
      "\n"
     ]
    }
   ],
   "source": [
    "def compute_perplexity(test_data, ngram_probabilities, n_1gram_counts, n=1, K=1, V=1):\n",
    "    mean_perplexity = 0\n",
    "\n",
    "    for article in tqdm(test_data, desc = 'calculating perplexity for articles....'):\n",
    "        log_sum_of_prob = 0\n",
    "        T = len(article)\n",
    "        \n",
    "        for i in range(len(article) - n + 1):\n",
    "            ngram = tuple(article[i:i + n])           #get ngram\n",
    "            n_1gram = ngram[:-1] if n > 1 else None  # get the n-1 gram prefix of ngram\n",
    "\n",
    "            # get probability correspoinding to the ngram or apply laplace smoothing if missing\n",
    "            prob = ngram_probabilities.get(ngram, K / (n_1gram_counts.get(n_1gram, 0) + K * V))\n",
    "                \n",
    "            log_sum_of_prob += np.log(prob)\n",
    "\n",
    "        # Cacluate perplexity for the article\n",
    "        perplexity = np.exp(-log_sum_of_prob / T)\n",
    "        mean_perplexity+=perplexity\n",
    "\n",
    "    # Caclulate overall perplexity as the average across all articles\n",
    "    mean_perplexity /= len(test_data)\n",
    "    return mean_perplexity\n",
    "\n",
    "perplexity_unigram = compute_perplexity(test_data, unigram_probabilities, unigram_n_1_counts, n = 1, K = 1, V = unigram_vocab_size)\n",
    "perplexity_bigram = compute_perplexity(test_data, bigram_probabilities, bigram_n_1_counts, n = 2, K = 1, V = bigram_vocab_size)\n",
    "perplexity_trigram = compute_perplexity(test_data, trigram_probabilities, trigram_n_1_counts, n = 3, K = 1, V = trigram_vocab_size)\n",
    "\n",
    "print(f'perplexity for unigram = {perplexity_unigram}')\n",
    "print()\n",
    "print(f'perplexity for bigram = {perplexity_bigram}')\n",
    "print()\n",
    "print(f'perplexity for trigram = {perplexity_trigram}')"
   ]
  },
  {
   "cell_type": "markdown",
   "metadata": {},
   "source": [
    "## D. Interpolation Model: \n"
   ]
  },
  {
   "cell_type": "code",
   "execution_count": null,
   "metadata": {},
   "outputs": [],
   "source": [
    "def compute_interpolated_probabilities(trigram_probabilities, bigram_probabilities, unigram_probabilities, lambda1, lambda2, lambda3):\n",
    "    \n",
    "    interpolated_probabilities = dict.fromkeys(tqdm(trigram_probabilities, desc='Creating dict'), 0)\n",
    "\n",
    "    for trigram, trigram_probability in tqdm(trigram_probabilities.items(), desc = 'interpolating probabilities....'):\n",
    "        \n",
    "        interpolated_probabilities[trigram] = lambda1*trigram_probability + lambda2*bigram_probabilities[trigram[1:]] + lambda3*unigram_probabilities[trigram[2:]]\n",
    "        \n",
    "    return interpolated_probabilities"
   ]
  },
  {
   "cell_type": "code",
   "execution_count": null,
   "metadata": {},
   "outputs": [
    {
     "name": "stderr",
     "output_type": "stream",
     "text": [
      "Creating dict: 100%|██████████| 15602595/15602595 [00:05<00:00, 2625999.29it/s]\n",
      "interpolating probabilities....: 100%|██████████| 15602595/15602595 [00:32<00:00, 484835.60it/s]\n",
      "calculating perplexity for articles....: 100%|██████████| 100/100 [00:01<00:00, 72.97it/s] "
     ]
    },
    {
     "name": "stdout",
     "output_type": "stream",
     "text": [
      "best perplexity using interpolation model : 531.9069643347829\n",
      "lambda1 : 0.7, lambda2  : 0.3, lambda3 : 0\n"
     ]
    },
    {
     "name": "stderr",
     "output_type": "stream",
     "text": [
      "\n"
     ]
    }
   ],
   "source": [
    "interpolated_probabilities = compute_interpolated_probabilities(\n",
    "        trigram_probabilities=trigram_probabilities,\n",
    "    bigram_probabilities = bigram_probabilities, \n",
    "unigram_probabilities=unigram_probabilities, \n",
    "    lambda1=0.7,\n",
    "        lambda2=0.3,\n",
    "            lambda3= 0\n",
    "        )\n",
    "print(f'best perplexity using interpolation model : {compute_perplexity(test_data, interpolated_probabilities, trigram_n_1_counts, n = 3, K = 1, V = trigram_vocab_size)}\\nlambda1 : 0.7, lambda2  : 0.3, lambda3 : 0')"
   ]
  },
  {
   "cell_type": "code",
   "execution_count": null,
   "metadata": {},
   "outputs": [
    {
     "name": "stdout",
     "output_type": "stream",
     "text": [
      "checking lambda1 = 0.0, lambda2 = 0.0, lambda3 = 1.0\n"
     ]
    },
    {
     "name": "stderr",
     "output_type": "stream",
     "text": [
      "Creating dict: 100%|██████████| 15602595/15602595 [00:05<00:00, 2613355.44it/s]\n",
      "interpolating probabilities....: 100%|██████████| 15602595/15602595 [01:15<00:00, 207966.32it/s]\n",
      "calculating perplexity for articles....: 100%|██████████| 100/100 [00:00<00:00, 101.73it/s]\n"
     ]
    },
    {
     "name": "stdout",
     "output_type": "stream",
     "text": [
      "current perplexity :  1278.715756638718 [0.0, 0.0, 1.0]\n",
      "\n",
      "best perplexity :  1278.715756638718 [0.0, 0.0, 1.0]\n",
      "\n",
      "checking lambda1 = 0.0, lambda2 = 0.1, lambda3 = 0.9\n"
     ]
    },
    {
     "name": "stderr",
     "output_type": "stream",
     "text": [
      "Creating dict: 100%|██████████| 15602595/15602595 [00:06<00:00, 2371707.74it/s]\n",
      "interpolating probabilities....: 100%|██████████| 15602595/15602595 [01:31<00:00, 170760.86it/s]\n",
      "calculating perplexity for articles....: 100%|██████████| 100/100 [00:01<00:00, 67.94it/s]\n"
     ]
    },
    {
     "name": "stdout",
     "output_type": "stream",
     "text": [
      "current perplexity :  851.2818698324786 [0.0, 0.1, 0.9]\n",
      "\n",
      "best perplexity :  851.2818698324786 [0.0, 0.1, 0.9]\n",
      "\n",
      "checking lambda1 = 0.0, lambda2 = 0.2, lambda3 = 0.8\n"
     ]
    },
    {
     "name": "stderr",
     "output_type": "stream",
     "text": [
      "Creating dict: 100%|██████████| 15602595/15602595 [00:06<00:00, 2237465.58it/s]\n",
      "interpolating probabilities....: 100%|██████████| 15602595/15602595 [02:27<00:00, 106095.22it/s]\n",
      "calculating perplexity for articles....: 100%|██████████| 100/100 [00:10<00:00,  9.40it/s]\n"
     ]
    },
    {
     "name": "stdout",
     "output_type": "stream",
     "text": [
      "current perplexity :  767.5663372548344 [0.0, 0.2, 0.8]\n",
      "\n",
      "best perplexity :  767.5663372548344 [0.0, 0.2, 0.8]\n",
      "\n",
      "checking lambda1 = 0.0, lambda2 = 0.30000000000000004, lambda3 = 0.7\n"
     ]
    },
    {
     "name": "stderr",
     "output_type": "stream",
     "text": [
      "Creating dict: 100%|██████████| 15602595/15602595 [00:12<00:00, 1256497.87it/s]\n",
      "interpolating probabilities....: 100%|██████████| 15602595/15602595 [01:33<00:00, 167426.79it/s]\n",
      "calculating perplexity for articles....: 100%|██████████| 100/100 [00:01<00:00, 71.14it/s]\n"
     ]
    },
    {
     "name": "stdout",
     "output_type": "stream",
     "text": [
      "current perplexity :  719.3959276888703 [0.0, 0.30000000000000004, 0.7]\n",
      "\n",
      "best perplexity :  719.3959276888703 [0.0, 0.30000000000000004, 0.7]\n",
      "\n",
      "checking lambda1 = 0.0, lambda2 = 0.4, lambda3 = 0.6\n"
     ]
    },
    {
     "name": "stderr",
     "output_type": "stream",
     "text": [
      "Creating dict: 100%|██████████| 15602595/15602595 [00:06<00:00, 2572794.24it/s]\n",
      "interpolating probabilities....: 100%|██████████| 15602595/15602595 [01:07<00:00, 230282.03it/s]\n",
      "calculating perplexity for articles....: 100%|██████████| 100/100 [00:00<00:00, 109.84it/s]\n"
     ]
    },
    {
     "name": "stdout",
     "output_type": "stream",
     "text": [
      "current perplexity :  686.1434067318518 [0.0, 0.4, 0.6]\n",
      "\n",
      "best perplexity :  686.1434067318518 [0.0, 0.4, 0.6]\n",
      "\n",
      "checking lambda1 = 0.0, lambda2 = 0.5, lambda3 = 0.5\n"
     ]
    },
    {
     "name": "stderr",
     "output_type": "stream",
     "text": [
      "Creating dict: 100%|██████████| 15602595/15602595 [00:06<00:00, 2552023.62it/s]\n",
      "interpolating probabilities....: 100%|██████████| 15602595/15602595 [01:13<00:00, 212338.63it/s]\n",
      "calculating perplexity for articles....: 100%|██████████| 100/100 [00:01<00:00, 98.52it/s]\n"
     ]
    },
    {
     "name": "stdout",
     "output_type": "stream",
     "text": [
      "current perplexity :  661.1224468148836 [0.0, 0.5, 0.5]\n",
      "\n",
      "best perplexity :  661.1224468148836 [0.0, 0.5, 0.5]\n",
      "\n",
      "checking lambda1 = 0.0, lambda2 = 0.6000000000000001, lambda3 = 0.3999999999999999\n"
     ]
    },
    {
     "name": "stderr",
     "output_type": "stream",
     "text": [
      "Creating dict: 100%|██████████| 15602595/15602595 [00:05<00:00, 2627876.81it/s]\n",
      "interpolating probabilities....: 100%|██████████| 15602595/15602595 [01:11<00:00, 219719.14it/s]\n",
      "calculating perplexity for articles....: 100%|██████████| 100/100 [00:00<00:00, 102.41it/s]\n"
     ]
    },
    {
     "name": "stdout",
     "output_type": "stream",
     "text": [
      "current perplexity :  641.3319523246311 [0.0, 0.6000000000000001, 0.3999999999999999]\n",
      "\n",
      "best perplexity :  641.3319523246311 [0.0, 0.6000000000000001, 0.3999999999999999]\n",
      "\n",
      "checking lambda1 = 0.0, lambda2 = 0.7000000000000001, lambda3 = 0.29999999999999993\n"
     ]
    },
    {
     "name": "stderr",
     "output_type": "stream",
     "text": [
      "Creating dict: 100%|██████████| 15602595/15602595 [00:06<00:00, 2543049.38it/s]\n",
      "interpolating probabilities....: 100%|██████████| 15602595/15602595 [01:15<00:00, 207045.08it/s]\n",
      "calculating perplexity for articles....: 100%|██████████| 100/100 [00:01<00:00, 99.89it/s]\n"
     ]
    },
    {
     "name": "stdout",
     "output_type": "stream",
     "text": [
      "current perplexity :  625.1852228177879 [0.0, 0.7000000000000001, 0.29999999999999993]\n",
      "\n",
      "best perplexity :  625.1852228177879 [0.0, 0.7000000000000001, 0.29999999999999993]\n",
      "\n",
      "checking lambda1 = 0.0, lambda2 = 0.8, lambda3 = 0.19999999999999996\n"
     ]
    },
    {
     "name": "stderr",
     "output_type": "stream",
     "text": [
      "Creating dict: 100%|██████████| 15602595/15602595 [00:06<00:00, 2497549.34it/s]\n",
      "interpolating probabilities....: 100%|██████████| 15602595/15602595 [01:16<00:00, 204664.73it/s]\n",
      "calculating perplexity for articles....: 100%|██████████| 100/100 [00:00<00:00, 100.18it/s]\n"
     ]
    },
    {
     "name": "stdout",
     "output_type": "stream",
     "text": [
      "current perplexity :  611.7689569948046 [0.0, 0.8, 0.19999999999999996]\n",
      "\n",
      "best perplexity :  611.7689569948046 [0.0, 0.8, 0.19999999999999996]\n",
      "\n",
      "checking lambda1 = 0.0, lambda2 = 0.9, lambda3 = 0.09999999999999998\n"
     ]
    },
    {
     "name": "stderr",
     "output_type": "stream",
     "text": [
      "Creating dict: 100%|██████████| 15602595/15602595 [00:06<00:00, 2578238.96it/s]\n",
      "interpolating probabilities....: 100%|██████████| 15602595/15602595 [01:12<00:00, 216589.04it/s]\n",
      "calculating perplexity for articles....: 100%|██████████| 100/100 [00:00<00:00, 110.38it/s]\n"
     ]
    },
    {
     "name": "stdout",
     "output_type": "stream",
     "text": [
      "current perplexity :  600.5638124564389 [0.0, 0.9, 0.09999999999999998]\n",
      "\n",
      "best perplexity :  600.5638124564389 [0.0, 0.9, 0.09999999999999998]\n",
      "\n",
      "checking lambda1 = 0.0, lambda2 = 1.0, lambda3 = 0.0\n"
     ]
    },
    {
     "name": "stderr",
     "output_type": "stream",
     "text": [
      "Creating dict: 100%|██████████| 15602595/15602595 [00:06<00:00, 2497425.34it/s]\n",
      "interpolating probabilities....: 100%|██████████| 15602595/15602595 [01:23<00:00, 187891.60it/s]\n",
      "calculating perplexity for articles....: 100%|██████████| 100/100 [00:01<00:00, 66.70it/s]\n"
     ]
    },
    {
     "name": "stdout",
     "output_type": "stream",
     "text": [
      "current perplexity :  591.4285611198426 [0.0, 1.0, 0.0]\n",
      "\n",
      "best perplexity :  591.4285611198426 [0.0, 1.0, 0.0]\n",
      "\n",
      "checking lambda1 = 0.1, lambda2 = 0.0, lambda3 = 0.9\n"
     ]
    },
    {
     "name": "stderr",
     "output_type": "stream",
     "text": [
      "Creating dict: 100%|██████████| 15602595/15602595 [00:06<00:00, 2373767.44it/s]\n",
      "interpolating probabilities....: 100%|██████████| 15602595/15602595 [01:35<00:00, 163999.45it/s]\n",
      "calculating perplexity for articles....: 100%|██████████| 100/100 [00:02<00:00, 43.20it/s]\n"
     ]
    },
    {
     "name": "stdout",
     "output_type": "stream",
     "text": [
      "current perplexity :  799.5956276010277 [0.1, 0.0, 0.9]\n",
      "\n",
      "checking lambda1 = 0.1, lambda2 = 0.1, lambda3 = 0.8\n"
     ]
    },
    {
     "name": "stderr",
     "output_type": "stream",
     "text": [
      "Creating dict: 100%|██████████| 15602595/15602595 [00:06<00:00, 2231362.81it/s]\n",
      "interpolating probabilities....: 100%|██████████| 15602595/15602595 [01:08<00:00, 227392.77it/s]\n",
      "calculating perplexity for articles....: 100%|██████████| 100/100 [00:01<00:00, 55.47it/s]\n"
     ]
    },
    {
     "name": "stdout",
     "output_type": "stream",
     "text": [
      "current perplexity :  710.8080891403257 [0.1, 0.1, 0.8]\n",
      "\n",
      "checking lambda1 = 0.1, lambda2 = 0.2, lambda3 = 0.7\n"
     ]
    },
    {
     "name": "stderr",
     "output_type": "stream",
     "text": [
      "Creating dict: 100%|██████████| 15602595/15602595 [00:06<00:00, 2481872.98it/s]\n",
      "interpolating probabilities....: 100%|██████████| 15602595/15602595 [01:54<00:00, 135802.98it/s]\n",
      "calculating perplexity for articles....: 100%|██████████| 100/100 [00:05<00:00, 19.81it/s]\n"
     ]
    },
    {
     "name": "stdout",
     "output_type": "stream",
     "text": [
      "current perplexity :  671.7714930170914 [0.1, 0.2, 0.7]\n",
      "\n",
      "checking lambda1 = 0.1, lambda2 = 0.30000000000000004, lambda3 = 0.6\n"
     ]
    },
    {
     "name": "stderr",
     "output_type": "stream",
     "text": [
      "Creating dict: 100%|██████████| 15602595/15602595 [00:09<00:00, 1570246.39it/s]\n",
      "interpolating probabilities....: 100%|██████████| 15602595/15602595 [01:58<00:00, 132176.17it/s]\n",
      "calculating perplexity for articles....: 100%|██████████| 100/100 [00:02<00:00, 36.84it/s]\n"
     ]
    },
    {
     "name": "stdout",
     "output_type": "stream",
     "text": [
      "current perplexity :  645.2397226622596 [0.1, 0.30000000000000004, 0.6]\n",
      "\n",
      "checking lambda1 = 0.1, lambda2 = 0.4, lambda3 = 0.5\n"
     ]
    },
    {
     "name": "stderr",
     "output_type": "stream",
     "text": [
      "Creating dict: 100%|██████████| 15602595/15602595 [00:08<00:00, 1839987.94it/s]\n",
      "interpolating probabilities....: 100%|██████████| 15602595/15602595 [01:33<00:00, 166856.94it/s]\n",
      "calculating perplexity for articles....: 100%|██████████| 100/100 [00:01<00:00, 69.48it/s]\n"
     ]
    },
    {
     "name": "stdout",
     "output_type": "stream",
     "text": [
      "current perplexity :  625.1358639871286 [0.1, 0.4, 0.5]\n",
      "\n",
      "checking lambda1 = 0.1, lambda2 = 0.5, lambda3 = 0.4\n"
     ]
    },
    {
     "name": "stderr",
     "output_type": "stream",
     "text": [
      "Creating dict: 100%|██████████| 15602595/15602595 [00:06<00:00, 2405956.24it/s]\n",
      "interpolating probabilities....: 100%|██████████| 15602595/15602595 [01:20<00:00, 192864.72it/s]\n",
      "calculating perplexity for articles....: 100%|██████████| 100/100 [00:01<00:00, 69.76it/s]\n"
     ]
    },
    {
     "name": "stdout",
     "output_type": "stream",
     "text": [
      "current perplexity :  609.0464300658489 [0.1, 0.5, 0.4]\n",
      "\n",
      "checking lambda1 = 0.1, lambda2 = 0.6000000000000001, lambda3 = 0.29999999999999993\n"
     ]
    },
    {
     "name": "stderr",
     "output_type": "stream",
     "text": [
      "Creating dict: 100%|██████████| 15602595/15602595 [00:06<00:00, 2483350.01it/s]\n",
      "interpolating probabilities....: 100%|██████████| 15602595/15602595 [01:20<00:00, 193904.71it/s]\n",
      "calculating perplexity for articles....: 100%|██████████| 100/100 [00:01<00:00, 76.87it/s]\n"
     ]
    },
    {
     "name": "stdout",
     "output_type": "stream",
     "text": [
      "current perplexity :  595.7483128860662 [0.1, 0.6000000000000001, 0.29999999999999993]\n",
      "\n",
      "checking lambda1 = 0.1, lambda2 = 0.7000000000000001, lambda3 = 0.19999999999999996\n"
     ]
    },
    {
     "name": "stderr",
     "output_type": "stream",
     "text": [
      "Creating dict: 100%|██████████| 15602595/15602595 [00:05<00:00, 2630755.39it/s]\n",
      "interpolating probabilities....: 100%|██████████| 15602595/15602595 [01:10<00:00, 221856.97it/s]\n",
      "calculating perplexity for articles....: 100%|██████████| 100/100 [00:00<00:00, 108.57it/s]\n"
     ]
    },
    {
     "name": "stdout",
     "output_type": "stream",
     "text": [
      "current perplexity :  584.5451623728121 [0.1, 0.7000000000000001, 0.19999999999999996]\n",
      "\n",
      "best perplexity :  584.5451623728121 [0.1, 0.7000000000000001, 0.19999999999999996]\n",
      "\n",
      "checking lambda1 = 0.1, lambda2 = 0.8, lambda3 = 0.09999999999999998\n"
     ]
    },
    {
     "name": "stderr",
     "output_type": "stream",
     "text": [
      "Creating dict: 100%|██████████| 15602595/15602595 [00:05<00:00, 2678293.64it/s]\n",
      "interpolating probabilities....: 100%|██████████| 15602595/15602595 [01:11<00:00, 218926.99it/s]\n",
      "calculating perplexity for articles....: 100%|██████████| 100/100 [00:01<00:00, 68.90it/s]\n"
     ]
    },
    {
     "name": "stdout",
     "output_type": "stream",
     "text": [
      "current perplexity :  575.03202596717 [0.1, 0.8, 0.09999999999999998]\n",
      "\n",
      "best perplexity :  575.03202596717 [0.1, 0.8, 0.09999999999999998]\n",
      "\n",
      "checking lambda1 = 0.1, lambda2 = 0.9, lambda3 = 0.0\n"
     ]
    },
    {
     "name": "stderr",
     "output_type": "stream",
     "text": [
      "Creating dict: 100%|██████████| 15602595/15602595 [00:06<00:00, 2591491.45it/s]\n",
      "interpolating probabilities....: 100%|██████████| 15602595/15602595 [01:28<00:00, 175781.86it/s]\n",
      "calculating perplexity for articles....: 100%|██████████| 100/100 [00:01<00:00, 67.69it/s]\n"
     ]
    },
    {
     "name": "stdout",
     "output_type": "stream",
     "text": [
      "current perplexity :  567.0450063508446 [0.1, 0.9, 0.0]\n",
      "\n",
      "best perplexity :  567.0450063508446 [0.1, 0.9, 0.0]\n",
      "\n",
      "checking lambda1 = 0.2, lambda2 = 0.0, lambda3 = 0.8\n"
     ]
    },
    {
     "name": "stderr",
     "output_type": "stream",
     "text": [
      "Creating dict: 100%|██████████| 15602595/15602595 [00:06<00:00, 2399183.40it/s]\n",
      "interpolating probabilities....: 100%|██████████| 15602595/15602595 [01:26<00:00, 180767.79it/s]\n",
      "calculating perplexity for articles....: 100%|██████████| 100/100 [00:01<00:00, 77.39it/s]\n"
     ]
    },
    {
     "name": "stdout",
     "output_type": "stream",
     "text": [
      "current perplexity :  720.6479360913926 [0.2, 0.0, 0.8]\n",
      "\n",
      "checking lambda1 = 0.2, lambda2 = 0.1, lambda3 = 0.7000000000000001\n"
     ]
    },
    {
     "name": "stderr",
     "output_type": "stream",
     "text": [
      "Creating dict: 100%|██████████| 15602595/15602595 [00:06<00:00, 2542515.66it/s]\n",
      "interpolating probabilities....: 100%|██████████| 15602595/15602595 [01:17<00:00, 200681.68it/s]\n",
      "calculating perplexity for articles....: 100%|██████████| 100/100 [00:01<00:00, 91.41it/s]\n"
     ]
    },
    {
     "name": "stdout",
     "output_type": "stream",
     "text": [
      "current perplexity :  659.0390709948365 [0.2, 0.1, 0.7000000000000001]\n",
      "\n",
      "checking lambda1 = 0.2, lambda2 = 0.2, lambda3 = 0.6000000000000001\n"
     ]
    },
    {
     "name": "stderr",
     "output_type": "stream",
     "text": [
      "Creating dict: 100%|██████████| 15602595/15602595 [00:06<00:00, 2509305.47it/s]\n",
      "interpolating probabilities....: 100%|██████████| 15602595/15602595 [01:21<00:00, 192055.64it/s]\n",
      "calculating perplexity for articles....: 100%|██████████| 100/100 [00:01<00:00, 91.91it/s] \n"
     ]
    },
    {
     "name": "stdout",
     "output_type": "stream",
     "text": [
      "current perplexity :  629.8595350003598 [0.2, 0.2, 0.6000000000000001]\n",
      "\n",
      "checking lambda1 = 0.2, lambda2 = 0.30000000000000004, lambda3 = 0.5\n"
     ]
    },
    {
     "name": "stderr",
     "output_type": "stream",
     "text": [
      "Creating dict: 100%|██████████| 15602595/15602595 [00:06<00:00, 2525641.92it/s]\n",
      "interpolating probabilities....: 100%|██████████| 15602595/15602595 [01:23<00:00, 186145.36it/s]\n",
      "calculating perplexity for articles....: 100%|██████████| 100/100 [00:00<00:00, 104.38it/s]\n"
     ]
    },
    {
     "name": "stdout",
     "output_type": "stream",
     "text": [
      "current perplexity :  609.4165357998431 [0.2, 0.30000000000000004, 0.5]\n",
      "\n",
      "checking lambda1 = 0.2, lambda2 = 0.4, lambda3 = 0.4\n"
     ]
    },
    {
     "name": "stderr",
     "output_type": "stream",
     "text": [
      "Creating dict: 100%|██████████| 15602595/15602595 [00:06<00:00, 2532429.26it/s]\n",
      "interpolating probabilities....: 100%|██████████| 15602595/15602595 [01:20<00:00, 193434.63it/s]\n",
      "calculating perplexity for articles....: 100%|██████████| 100/100 [00:00<00:00, 107.14it/s]\n"
     ]
    },
    {
     "name": "stdout",
     "output_type": "stream",
     "text": [
      "current perplexity :  593.6007761590052 [0.2, 0.4, 0.4]\n",
      "\n",
      "checking lambda1 = 0.2, lambda2 = 0.5, lambda3 = 0.30000000000000004\n"
     ]
    },
    {
     "name": "stderr",
     "output_type": "stream",
     "text": [
      "Creating dict: 100%|██████████| 15602595/15602595 [00:06<00:00, 2579397.95it/s]\n",
      "interpolating probabilities....: 100%|██████████| 15602595/15602595 [01:10<00:00, 220317.75it/s]\n",
      "calculating perplexity for articles....: 100%|██████████| 100/100 [00:01<00:00, 90.44it/s]\n"
     ]
    },
    {
     "name": "stdout",
     "output_type": "stream",
     "text": [
      "current perplexity :  580.7479145048086 [0.2, 0.5, 0.30000000000000004]\n",
      "\n",
      "checking lambda1 = 0.2, lambda2 = 0.6000000000000001, lambda3 = 0.19999999999999996\n"
     ]
    },
    {
     "name": "stderr",
     "output_type": "stream",
     "text": [
      "Creating dict: 100%|██████████| 15602595/15602595 [00:06<00:00, 2575368.99it/s]\n",
      "interpolating probabilities....: 100%|██████████| 15602595/15602595 [01:09<00:00, 225201.21it/s]\n",
      "calculating perplexity for articles....: 100%|██████████| 100/100 [00:00<00:00, 104.71it/s]\n"
     ]
    },
    {
     "name": "stdout",
     "output_type": "stream",
     "text": [
      "current perplexity :  570.0068439672536 [0.2, 0.6000000000000001, 0.19999999999999996]\n",
      "\n",
      "checking lambda1 = 0.2, lambda2 = 0.7000000000000001, lambda3 = 0.09999999999999998\n"
     ]
    },
    {
     "name": "stderr",
     "output_type": "stream",
     "text": [
      "Creating dict: 100%|██████████| 15602595/15602595 [00:06<00:00, 2485886.52it/s]\n",
      "interpolating probabilities....: 100%|██████████| 15602595/15602595 [01:09<00:00, 223357.69it/s]\n",
      "calculating perplexity for articles....: 100%|██████████| 100/100 [00:00<00:00, 110.60it/s]\n"
     ]
    },
    {
     "name": "stdout",
     "output_type": "stream",
     "text": [
      "current perplexity :  560.9002776749513 [0.2, 0.7000000000000001, 0.09999999999999998]\n",
      "\n",
      "best perplexity :  560.9002776749513 [0.2, 0.7000000000000001, 0.09999999999999998]\n",
      "\n",
      "checking lambda1 = 0.2, lambda2 = 0.8, lambda3 = 0.0\n"
     ]
    },
    {
     "name": "stderr",
     "output_type": "stream",
     "text": [
      "Creating dict: 100%|██████████| 15602595/15602595 [00:06<00:00, 2577743.16it/s]\n",
      "interpolating probabilities....: 100%|██████████| 15602595/15602595 [01:07<00:00, 231088.32it/s]\n",
      "calculating perplexity for articles....: 100%|██████████| 100/100 [00:00<00:00, 108.45it/s]\n"
     ]
    },
    {
     "name": "stdout",
     "output_type": "stream",
     "text": [
      "current perplexity :  553.1924432231955 [0.2, 0.8, 0.0]\n",
      "\n",
      "best perplexity :  553.1924432231955 [0.2, 0.8, 0.0]\n",
      "\n",
      "checking lambda1 = 0.30000000000000004, lambda2 = 0.0, lambda3 = 0.7\n"
     ]
    },
    {
     "name": "stderr",
     "output_type": "stream",
     "text": [
      "Creating dict: 100%|██████████| 15602595/15602595 [00:05<00:00, 2621108.74it/s]\n",
      "interpolating probabilities....: 100%|██████████| 15602595/15602595 [01:17<00:00, 200300.04it/s]\n",
      "calculating perplexity for articles....: 100%|██████████| 100/100 [00:01<00:00, 93.97it/s]\n"
     ]
    },
    {
     "name": "stdout",
     "output_type": "stream",
     "text": [
      "current perplexity :  674.990907440057 [0.30000000000000004, 0.0, 0.7]\n",
      "\n",
      "checking lambda1 = 0.30000000000000004, lambda2 = 0.1, lambda3 = 0.6\n"
     ]
    },
    {
     "name": "stderr",
     "output_type": "stream",
     "text": [
      "Creating dict: 100%|██████████| 15602595/15602595 [00:06<00:00, 2550494.31it/s]\n",
      "interpolating probabilities....: 100%|██████████| 15602595/15602595 [01:13<00:00, 213656.29it/s]\n",
      "calculating perplexity for articles....: 100%|██████████| 100/100 [00:00<00:00, 105.75it/s]\n"
     ]
    },
    {
     "name": "stdout",
     "output_type": "stream",
     "text": [
      "current perplexity :  626.2277295686731 [0.30000000000000004, 0.1, 0.6]\n",
      "\n",
      "checking lambda1 = 0.30000000000000004, lambda2 = 0.2, lambda3 = 0.49999999999999994\n"
     ]
    },
    {
     "name": "stderr",
     "output_type": "stream",
     "text": [
      "Creating dict: 100%|██████████| 15602595/15602595 [00:06<00:00, 2561581.11it/s]\n",
      "interpolating probabilities....: 100%|██████████| 15602595/15602595 [01:07<00:00, 229504.04it/s]\n",
      "calculating perplexity for articles....: 100%|██████████| 100/100 [00:01<00:00, 99.39it/s]\n"
     ]
    },
    {
     "name": "stdout",
     "output_type": "stream",
     "text": [
      "current perplexity :  602.1965388379131 [0.30000000000000004, 0.2, 0.49999999999999994]\n",
      "\n",
      "checking lambda1 = 0.30000000000000004, lambda2 = 0.30000000000000004, lambda3 = 0.3999999999999999\n"
     ]
    },
    {
     "name": "stderr",
     "output_type": "stream",
     "text": [
      "Creating dict: 100%|██████████| 15602595/15602595 [00:06<00:00, 2547453.08it/s]\n",
      "interpolating probabilities....: 100%|██████████| 15602595/15602595 [01:16<00:00, 204837.49it/s]\n",
      "calculating perplexity for articles....: 100%|██████████| 100/100 [00:01<00:00, 91.79it/s]\n"
     ]
    },
    {
     "name": "stdout",
     "output_type": "stream",
     "text": [
      "current perplexity :  585.0938686240243 [0.30000000000000004, 0.30000000000000004, 0.3999999999999999]\n",
      "\n",
      "checking lambda1 = 0.30000000000000004, lambda2 = 0.4, lambda3 = 0.29999999999999993\n"
     ]
    },
    {
     "name": "stderr",
     "output_type": "stream",
     "text": [
      "Creating dict: 100%|██████████| 15602595/15602595 [00:06<00:00, 2547662.34it/s]\n",
      "interpolating probabilities....: 100%|██████████| 15602595/15602595 [01:13<00:00, 212344.24it/s]\n",
      "calculating perplexity for articles....: 100%|██████████| 100/100 [00:01<00:00, 97.51it/s]\n"
     ]
    },
    {
     "name": "stdout",
     "output_type": "stream",
     "text": [
      "current perplexity :  571.723955346997 [0.30000000000000004, 0.4, 0.29999999999999993]\n",
      "\n",
      "checking lambda1 = 0.30000000000000004, lambda2 = 0.5, lambda3 = 0.19999999999999996\n"
     ]
    },
    {
     "name": "stderr",
     "output_type": "stream",
     "text": [
      "Creating dict: 100%|██████████| 15602595/15602595 [00:06<00:00, 2544186.54it/s]\n",
      "interpolating probabilities....: 100%|██████████| 15602595/15602595 [01:18<00:00, 197898.20it/s]\n",
      "calculating perplexity for articles....: 100%|██████████| 100/100 [00:00<00:00, 101.07it/s]\n"
     ]
    },
    {
     "name": "stdout",
     "output_type": "stream",
     "text": [
      "current perplexity :  560.7821692636052 [0.30000000000000004, 0.5, 0.19999999999999996]\n",
      "\n",
      "checking lambda1 = 0.30000000000000004, lambda2 = 0.6000000000000001, lambda3 = 0.09999999999999987\n"
     ]
    },
    {
     "name": "stderr",
     "output_type": "stream",
     "text": [
      "Creating dict: 100%|██████████| 15602595/15602595 [00:06<00:00, 2505737.73it/s]\n",
      "interpolating probabilities....: 100%|██████████| 15602595/15602595 [01:04<00:00, 241290.19it/s]\n",
      "calculating perplexity for articles....: 100%|██████████| 100/100 [00:00<00:00, 104.23it/s]\n"
     ]
    },
    {
     "name": "stdout",
     "output_type": "stream",
     "text": [
      "current perplexity :  551.6060337484548 [0.30000000000000004, 0.6000000000000001, 0.09999999999999987]\n",
      "\n",
      "best perplexity :  551.6060337484548 [0.30000000000000004, 0.6000000000000001, 0.09999999999999987]\n",
      "\n",
      "checking lambda1 = 0.30000000000000004, lambda2 = 0.7000000000000001, lambda3 = -1.1102230246251565e-16\n"
     ]
    },
    {
     "name": "stderr",
     "output_type": "stream",
     "text": [
      "Creating dict: 100%|██████████| 15602595/15602595 [00:06<00:00, 2548378.42it/s]\n",
      "interpolating probabilities....: 100%|██████████| 15602595/15602595 [01:05<00:00, 237793.60it/s]\n",
      "calculating perplexity for articles....: 100%|██████████| 100/100 [00:01<00:00, 97.81it/s]\n"
     ]
    },
    {
     "name": "stdout",
     "output_type": "stream",
     "text": [
      "current perplexity :  543.8526464931776 [0.30000000000000004, 0.7000000000000001, -1.1102230246251565e-16]\n",
      "\n",
      "best perplexity :  543.8526464931776 [0.30000000000000004, 0.7000000000000001, -1.1102230246251565e-16]\n",
      "\n",
      "checking lambda1 = 0.4, lambda2 = 0.0, lambda3 = 0.6\n"
     ]
    },
    {
     "name": "stderr",
     "output_type": "stream",
     "text": [
      "Creating dict: 100%|██████████| 15602595/15602595 [00:06<00:00, 2480399.39it/s]\n",
      "interpolating probabilities....: 100%|██████████| 15602595/15602595 [01:11<00:00, 217567.37it/s]\n",
      "calculating perplexity for articles....: 100%|██████████| 100/100 [00:01<00:00, 85.19it/s]\n"
     ]
    },
    {
     "name": "stdout",
     "output_type": "stream",
     "text": [
      "current perplexity :  643.2913926622717 [0.4, 0.0, 0.6]\n",
      "\n",
      "checking lambda1 = 0.4, lambda2 = 0.1, lambda3 = 0.5\n"
     ]
    },
    {
     "name": "stderr",
     "output_type": "stream",
     "text": [
      "Creating dict: 100%|██████████| 15602595/15602595 [00:05<00:00, 2621284.28it/s]\n",
      "interpolating probabilities....: 100%|██████████| 15602595/15602595 [01:05<00:00, 236749.41it/s]\n",
      "calculating perplexity for articles....: 100%|██████████| 100/100 [00:00<00:00, 102.60it/s]\n"
     ]
    },
    {
     "name": "stdout",
     "output_type": "stream",
     "text": [
      "current perplexity :  602.310833341694 [0.4, 0.1, 0.5]\n",
      "\n",
      "checking lambda1 = 0.4, lambda2 = 0.2, lambda3 = 0.39999999999999997\n"
     ]
    },
    {
     "name": "stderr",
     "output_type": "stream",
     "text": [
      "Creating dict: 100%|██████████| 15602595/15602595 [00:06<00:00, 2547688.52it/s]\n",
      "interpolating probabilities....: 100%|██████████| 15602595/15602595 [00:58<00:00, 265856.09it/s]\n",
      "calculating perplexity for articles....: 100%|██████████| 100/100 [00:00<00:00, 124.33it/s]\n"
     ]
    },
    {
     "name": "stdout",
     "output_type": "stream",
     "text": [
      "current perplexity :  581.587686319141 [0.4, 0.2, 0.39999999999999997]\n",
      "\n",
      "checking lambda1 = 0.4, lambda2 = 0.30000000000000004, lambda3 = 0.29999999999999993\n"
     ]
    },
    {
     "name": "stderr",
     "output_type": "stream",
     "text": [
      "Creating dict: 100%|██████████| 15602595/15602595 [00:05<00:00, 2677008.72it/s]\n",
      "interpolating probabilities....: 100%|██████████| 15602595/15602595 [00:50<00:00, 306593.91it/s]\n",
      "calculating perplexity for articles....: 100%|██████████| 100/100 [00:00<00:00, 115.59it/s]\n"
     ]
    },
    {
     "name": "stdout",
     "output_type": "stream",
     "text": [
      "current perplexity :  566.6926729615899 [0.4, 0.30000000000000004, 0.29999999999999993]\n",
      "\n",
      "checking lambda1 = 0.4, lambda2 = 0.4, lambda3 = 0.19999999999999996\n"
     ]
    },
    {
     "name": "stderr",
     "output_type": "stream",
     "text": [
      "Creating dict: 100%|██████████| 15602595/15602595 [00:05<00:00, 2656961.15it/s]\n",
      "interpolating probabilities....: 100%|██████████| 15602595/15602595 [00:55<00:00, 282471.14it/s]\n",
      "calculating perplexity for articles....: 100%|██████████| 100/100 [00:00<00:00, 104.16it/s]\n"
     ]
    },
    {
     "name": "stdout",
     "output_type": "stream",
     "text": [
      "current perplexity :  554.9791580148996 [0.4, 0.4, 0.19999999999999996]\n",
      "\n",
      "checking lambda1 = 0.4, lambda2 = 0.5, lambda3 = 0.09999999999999998\n"
     ]
    },
    {
     "name": "stderr",
     "output_type": "stream",
     "text": [
      "Creating dict: 100%|██████████| 15602595/15602595 [00:06<00:00, 2600167.38it/s]\n",
      "interpolating probabilities....: 100%|██████████| 15602595/15602595 [01:05<00:00, 239994.19it/s]\n",
      "calculating perplexity for articles....: 100%|██████████| 100/100 [00:00<00:00, 102.72it/s]\n"
     ]
    },
    {
     "name": "stdout",
     "output_type": "stream",
     "text": [
      "current perplexity :  545.3662963479687 [0.4, 0.5, 0.09999999999999998]\n",
      "\n",
      "checking lambda1 = 0.4, lambda2 = 0.6000000000000001, lambda3 = -1.1102230246251565e-16\n"
     ]
    },
    {
     "name": "stderr",
     "output_type": "stream",
     "text": [
      "Creating dict: 100%|██████████| 15602595/15602595 [00:06<00:00, 2531889.61it/s]\n",
      "interpolating probabilities....: 100%|██████████| 15602595/15602595 [01:09<00:00, 226095.53it/s]\n",
      "calculating perplexity for articles....: 100%|██████████| 100/100 [00:00<00:00, 101.20it/s]\n"
     ]
    },
    {
     "name": "stdout",
     "output_type": "stream",
     "text": [
      "current perplexity :  537.325912027445 [0.4, 0.6000000000000001, -1.1102230246251565e-16]\n",
      "\n",
      "best perplexity :  537.325912027445 [0.4, 0.6000000000000001, -1.1102230246251565e-16]\n",
      "\n",
      "checking lambda1 = 0.5, lambda2 = 0.0, lambda3 = 0.5\n"
     ]
    },
    {
     "name": "stderr",
     "output_type": "stream",
     "text": [
      "Creating dict: 100%|██████████| 15602595/15602595 [00:06<00:00, 2468073.83it/s]\n",
      "interpolating probabilities....: 100%|██████████| 15602595/15602595 [01:22<00:00, 188759.24it/s]\n",
      "calculating perplexity for articles....: 100%|██████████| 100/100 [00:01<00:00, 70.12it/s]\n"
     ]
    },
    {
     "name": "stdout",
     "output_type": "stream",
     "text": [
      "current perplexity :  619.2815800489943 [0.5, 0.0, 0.5]\n",
      "\n",
      "checking lambda1 = 0.5, lambda2 = 0.1, lambda3 = 0.4\n"
     ]
    },
    {
     "name": "stderr",
     "output_type": "stream",
     "text": [
      "Creating dict: 100%|██████████| 15602595/15602595 [00:08<00:00, 1815500.50it/s]\n",
      "interpolating probabilities....: 100%|██████████| 15602595/15602595 [01:37<00:00, 159781.75it/s]\n",
      "calculating perplexity for articles....: 100%|██████████| 100/100 [00:02<00:00, 36.38it/s]\n"
     ]
    },
    {
     "name": "stdout",
     "output_type": "stream",
     "text": [
      "current perplexity :  583.6078169114224 [0.5, 0.1, 0.4]\n",
      "\n",
      "checking lambda1 = 0.5, lambda2 = 0.2, lambda3 = 0.3\n"
     ]
    },
    {
     "name": "stderr",
     "output_type": "stream",
     "text": [
      "Creating dict: 100%|██████████| 15602595/15602595 [00:08<00:00, 1894191.89it/s]\n",
      "interpolating probabilities....: 100%|██████████| 15602595/15602595 [01:37<00:00, 159903.45it/s]\n",
      "calculating perplexity for articles....: 100%|██████████| 100/100 [00:01<00:00, 67.17it/s]\n"
     ]
    },
    {
     "name": "stdout",
     "output_type": "stream",
     "text": [
      "current perplexity :  565.241740887437 [0.5, 0.2, 0.3]\n",
      "\n",
      "checking lambda1 = 0.5, lambda2 = 0.30000000000000004, lambda3 = 0.19999999999999996\n"
     ]
    },
    {
     "name": "stderr",
     "output_type": "stream",
     "text": [
      "Creating dict: 100%|██████████| 15602595/15602595 [00:06<00:00, 2588527.82it/s]\n",
      "interpolating probabilities....: 100%|██████████| 15602595/15602595 [01:04<00:00, 240245.13it/s]\n",
      "calculating perplexity for articles....: 100%|██████████| 100/100 [00:01<00:00, 99.93it/s]\n"
     ]
    },
    {
     "name": "stdout",
     "output_type": "stream",
     "text": [
      "current perplexity :  551.954827865251 [0.5, 0.30000000000000004, 0.19999999999999996]\n",
      "\n",
      "checking lambda1 = 0.5, lambda2 = 0.4, lambda3 = 0.09999999999999998\n"
     ]
    },
    {
     "name": "stderr",
     "output_type": "stream",
     "text": [
      "Creating dict: 100%|██████████| 15602595/15602595 [00:06<00:00, 2592209.09it/s]\n",
      "interpolating probabilities....: 100%|██████████| 15602595/15602595 [01:06<00:00, 234471.64it/s]\n",
      "calculating perplexity for articles....: 100%|██████████| 100/100 [00:01<00:00, 99.98it/s]\n"
     ]
    },
    {
     "name": "stdout",
     "output_type": "stream",
     "text": [
      "current perplexity :  541.475353183595 [0.5, 0.4, 0.09999999999999998]\n",
      "\n",
      "checking lambda1 = 0.5, lambda2 = 0.5, lambda3 = 0.0\n"
     ]
    },
    {
     "name": "stderr",
     "output_type": "stream",
     "text": [
      "Creating dict: 100%|██████████| 15602595/15602595 [00:06<00:00, 2576451.45it/s]\n",
      "interpolating probabilities....: 100%|██████████| 15602595/15602595 [01:18<00:00, 199542.56it/s]\n",
      "calculating perplexity for articles....: 100%|██████████| 100/100 [00:00<00:00, 100.03it/s]\n"
     ]
    },
    {
     "name": "stdout",
     "output_type": "stream",
     "text": [
      "current perplexity :  532.889727125189 [0.5, 0.5, 0.0]\n",
      "\n",
      "best perplexity :  532.889727125189 [0.5, 0.5, 0.0]\n",
      "\n",
      "checking lambda1 = 0.6000000000000001, lambda2 = 0.0, lambda3 = 0.3999999999999999\n"
     ]
    },
    {
     "name": "stderr",
     "output_type": "stream",
     "text": [
      "Creating dict: 100%|██████████| 15602595/15602595 [00:06<00:00, 2530862.17it/s]\n",
      "interpolating probabilities....: 100%|██████████| 15602595/15602595 [01:20<00:00, 193626.21it/s]\n",
      "calculating perplexity for articles....: 100%|██████████| 100/100 [00:01<00:00, 58.31it/s]\n"
     ]
    },
    {
     "name": "stdout",
     "output_type": "stream",
     "text": [
      "current perplexity :  600.1363073460391 [0.6000000000000001, 0.0, 0.3999999999999999]\n",
      "\n",
      "checking lambda1 = 0.6000000000000001, lambda2 = 0.1, lambda3 = 0.29999999999999993\n"
     ]
    },
    {
     "name": "stderr",
     "output_type": "stream",
     "text": [
      "Creating dict: 100%|██████████| 15602595/15602595 [00:06<00:00, 2319832.98it/s]\n",
      "interpolating probabilities....: 100%|██████████| 15602595/15602595 [01:49<00:00, 141882.59it/s]\n",
      "calculating perplexity for articles....: 100%|██████████| 100/100 [00:05<00:00, 19.90it/s]\n"
     ]
    },
    {
     "name": "stdout",
     "output_type": "stream",
     "text": [
      "current perplexity :  568.3447494179367 [0.6000000000000001, 0.1, 0.29999999999999993]\n",
      "\n",
      "checking lambda1 = 0.6000000000000001, lambda2 = 0.2, lambda3 = 0.1999999999999999\n"
     ]
    },
    {
     "name": "stderr",
     "output_type": "stream",
     "text": [
      "Creating dict: 100%|██████████| 15602595/15602595 [00:10<00:00, 1547380.50it/s]\n",
      "interpolating probabilities....: 100%|██████████| 15602595/15602595 [01:40<00:00, 155050.64it/s]\n",
      "calculating perplexity for articles....: 100%|██████████| 100/100 [00:01<00:00, 54.58it/s]\n"
     ]
    },
    {
     "name": "stdout",
     "output_type": "stream",
     "text": [
      "current perplexity :  551.7694615380008 [0.6000000000000001, 0.2, 0.1999999999999999]\n",
      "\n",
      "checking lambda1 = 0.6000000000000001, lambda2 = 0.30000000000000004, lambda3 = 0.09999999999999987\n"
     ]
    },
    {
     "name": "stderr",
     "output_type": "stream",
     "text": [
      "Creating dict: 100%|██████████| 15602595/15602595 [00:06<00:00, 2282302.39it/s]\n",
      "interpolating probabilities....: 100%|██████████| 15602595/15602595 [01:44<00:00, 149039.40it/s]\n",
      "calculating perplexity for articles....: 100%|██████████| 100/100 [00:01<00:00, 50.87it/s]\n"
     ]
    },
    {
     "name": "stdout",
     "output_type": "stream",
     "text": [
      "current perplexity :  539.7315822015868 [0.6000000000000001, 0.30000000000000004, 0.09999999999999987]\n",
      "\n",
      "checking lambda1 = 0.6000000000000001, lambda2 = 0.4, lambda3 = -1.1102230246251565e-16\n"
     ]
    },
    {
     "name": "stderr",
     "output_type": "stream",
     "text": [
      "Creating dict: 100%|██████████| 15602595/15602595 [00:07<00:00, 2150957.67it/s]\n",
      "interpolating probabilities....: 100%|██████████| 15602595/15602595 [01:20<00:00, 194504.68it/s]\n",
      "calculating perplexity for articles....: 100%|██████████| 100/100 [00:01<00:00, 65.91it/s]\n"
     ]
    },
    {
     "name": "stdout",
     "output_type": "stream",
     "text": [
      "current perplexity :  530.2429407301797 [0.6000000000000001, 0.4, -1.1102230246251565e-16]\n",
      "\n",
      "best perplexity :  530.2429407301797 [0.6000000000000001, 0.4, -1.1102230246251565e-16]\n",
      "\n",
      "checking lambda1 = 0.7000000000000001, lambda2 = 0.0, lambda3 = 0.29999999999999993\n"
     ]
    },
    {
     "name": "stderr",
     "output_type": "stream",
     "text": [
      "Creating dict: 100%|██████████| 15602595/15602595 [00:06<00:00, 2484024.45it/s]\n",
      "interpolating probabilities....: 100%|██████████| 15602595/15602595 [02:47<00:00, 93078.12it/s] \n",
      "calculating perplexity for articles....: 100%|██████████| 100/100 [00:02<00:00, 35.05it/s]\n"
     ]
    },
    {
     "name": "stdout",
     "output_type": "stream",
     "text": [
      "current perplexity :  584.3459988081714 [0.7000000000000001, 0.0, 0.29999999999999993]\n",
      "\n",
      "checking lambda1 = 0.7000000000000001, lambda2 = 0.1, lambda3 = 0.19999999999999993\n"
     ]
    },
    {
     "name": "stderr",
     "output_type": "stream",
     "text": [
      "Creating dict: 100%|██████████| 15602595/15602595 [00:08<00:00, 1925778.16it/s]\n",
      "interpolating probabilities....: 100%|██████████| 15602595/15602595 [01:29<00:00, 174674.87it/s]\n",
      "calculating perplexity for articles....: 100%|██████████| 100/100 [00:01<00:00, 61.40it/s]\n"
     ]
    },
    {
     "name": "stdout",
     "output_type": "stream",
     "text": [
      "current perplexity :  555.5307922057027 [0.7000000000000001, 0.1, 0.19999999999999993]\n",
      "\n",
      "checking lambda1 = 0.7000000000000001, lambda2 = 0.2, lambda3 = 0.09999999999999992\n"
     ]
    },
    {
     "name": "stderr",
     "output_type": "stream",
     "text": [
      "Creating dict: 100%|██████████| 15602595/15602595 [00:06<00:00, 2556715.57it/s]\n",
      "interpolating probabilities....: 100%|██████████| 15602595/15602595 [01:32<00:00, 168158.33it/s]\n",
      "calculating perplexity for articles....: 100%|██████████| 100/100 [00:01<00:00, 64.26it/s]\n"
     ]
    },
    {
     "name": "stdout",
     "output_type": "stream",
     "text": [
      "current perplexity :  540.3806768399796 [0.7000000000000001, 0.2, 0.09999999999999992]\n",
      "\n",
      "checking lambda1 = 0.7000000000000001, lambda2 = 0.30000000000000004, lambda3 = -1.1102230246251565e-16\n"
     ]
    },
    {
     "name": "stderr",
     "output_type": "stream",
     "text": [
      "Creating dict: 100%|██████████| 15602595/15602595 [00:06<00:00, 2525617.36it/s]\n",
      "interpolating probabilities....: 100%|██████████| 15602595/15602595 [01:17<00:00, 201767.58it/s]\n",
      "calculating perplexity for articles....: 100%|██████████| 100/100 [00:00<00:00, 100.76it/s]\n"
     ]
    },
    {
     "name": "stdout",
     "output_type": "stream",
     "text": [
      "current perplexity :  529.3690305594669 [0.7000000000000001, 0.30000000000000004, -1.1102230246251565e-16]\n",
      "\n",
      "best perplexity :  529.3690305594669 [0.7000000000000001, 0.30000000000000004, -1.1102230246251565e-16]\n",
      "\n",
      "checking lambda1 = 0.8, lambda2 = 0.0, lambda3 = 0.19999999999999996\n"
     ]
    },
    {
     "name": "stderr",
     "output_type": "stream",
     "text": [
      "Creating dict: 100%|██████████| 15602595/15602595 [00:06<00:00, 2295310.33it/s]\n",
      "interpolating probabilities....: 100%|██████████| 15602595/15602595 [01:24<00:00, 184606.74it/s]\n",
      "calculating perplexity for articles....: 100%|██████████| 100/100 [00:01<00:00, 73.69it/s]\n"
     ]
    },
    {
     "name": "stdout",
     "output_type": "stream",
     "text": [
      "current perplexity :  571.0157408879486 [0.8, 0.0, 0.19999999999999996]\n",
      "\n",
      "checking lambda1 = 0.8, lambda2 = 0.1, lambda3 = 0.09999999999999995\n"
     ]
    },
    {
     "name": "stderr",
     "output_type": "stream",
     "text": [
      "Creating dict: 100%|██████████| 15602595/15602595 [00:06<00:00, 2418121.88it/s]\n",
      "interpolating probabilities....: 100%|██████████| 15602595/15602595 [01:04<00:00, 243084.22it/s]\n",
      "calculating perplexity for articles....: 100%|██████████| 100/100 [00:00<00:00, 101.60it/s]\n"
     ]
    },
    {
     "name": "stdout",
     "output_type": "stream",
     "text": [
      "current perplexity :  544.5612474699558 [0.8, 0.1, 0.09999999999999995]\n",
      "\n",
      "checking lambda1 = 0.8, lambda2 = 0.2, lambda3 = -5.551115123125783e-17\n"
     ]
    },
    {
     "name": "stderr",
     "output_type": "stream",
     "text": [
      "Creating dict: 100%|██████████| 15602595/15602595 [00:06<00:00, 2541356.60it/s]\n",
      "interpolating probabilities....: 100%|██████████| 15602595/15602595 [01:06<00:00, 234628.58it/s]\n",
      "calculating perplexity for articles....: 100%|██████████| 100/100 [00:00<00:00, 104.35it/s]\n"
     ]
    },
    {
     "name": "stdout",
     "output_type": "stream",
     "text": [
      "current perplexity :  530.595068614198 [0.8, 0.2, -5.551115123125783e-17]\n",
      "\n",
      "checking lambda1 = 0.9, lambda2 = 0.0, lambda3 = 0.09999999999999998\n"
     ]
    },
    {
     "name": "stderr",
     "output_type": "stream",
     "text": [
      "Creating dict: 100%|██████████| 15602595/15602595 [00:06<00:00, 2586357.07it/s]\n",
      "interpolating probabilities....: 100%|██████████| 15602595/15602595 [01:11<00:00, 218166.05it/s]\n",
      "calculating perplexity for articles....: 100%|██████████| 100/100 [00:01<00:00, 98.78it/s]\n"
     ]
    },
    {
     "name": "stdout",
     "output_type": "stream",
     "text": [
      "current perplexity :  559.5803196715702 [0.9, 0.0, 0.09999999999999998]\n",
      "\n",
      "checking lambda1 = 0.9, lambda2 = 0.1, lambda3 = -2.7755575615628914e-17\n"
     ]
    },
    {
     "name": "stderr",
     "output_type": "stream",
     "text": [
      "Creating dict: 100%|██████████| 15602595/15602595 [00:06<00:00, 2556997.68it/s]\n",
      "interpolating probabilities....: 100%|██████████| 15602595/15602595 [01:18<00:00, 197833.02it/s]\n",
      "calculating perplexity for articles....: 100%|██████████| 100/100 [00:00<00:00, 100.47it/s]\n"
     ]
    },
    {
     "name": "stdout",
     "output_type": "stream",
     "text": [
      "current perplexity :  535.0532618833385 [0.9, 0.1, -2.7755575615628914e-17]\n",
      "\n",
      "checking lambda1 = 1.0, lambda2 = 0.0, lambda3 = 0.0\n"
     ]
    },
    {
     "name": "stderr",
     "output_type": "stream",
     "text": [
      "Creating dict: 100%|██████████| 15602595/15602595 [00:06<00:00, 2548944.30it/s]\n",
      "interpolating probabilities....: 100%|██████████| 15602595/15602595 [01:15<00:00, 207777.58it/s]\n",
      "calculating perplexity for articles....: 100%|██████████| 100/100 [00:00<00:00, 100.54it/s]"
     ]
    },
    {
     "name": "stdout",
     "output_type": "stream",
     "text": [
      "current perplexity :  549.6792421554559 [1.0, 0.0, 0.0]\n",
      "\n",
      "529.3690305594669 [0.7000000000000001, 0.30000000000000004, -1.1102230246251565e-16]\n"
     ]
    },
    {
     "name": "stderr",
     "output_type": "stream",
     "text": [
      "\n"
     ]
    }
   ],
   "source": [
    "grid_space = np.linspace(0, 1, 11)\n",
    "\n",
    "def grid_search(grid_space):\n",
    "    \n",
    "    best_lambdas = [1, 0, 0]\n",
    "    \n",
    "    best_perplexity = 1e8\n",
    "\n",
    "    for lambda1 in grid_space:\n",
    "        for lambda2 in grid_space:\n",
    "            \n",
    "            if (lambda2 + lambda1 > 1):\n",
    "                break\n",
    "            else:\n",
    "                \n",
    "                lambda3 = 1-lambda1-lambda2\n",
    "                print(f'checking lambda1 = {lambda1}, lambda2 = {lambda2}, lambda3 = {lambda3}')\n",
    "                \n",
    "                interpolated_probabilities = compute_interpolated_probabilities(trigram_probabilities=trigram_probabilities, unigram_probabilities = unigram_probabilities, bigram_probabilities=bigram_probabilities, lambda1=lambda1,lambda2=lambda2,lambda3= lambda3)\n",
    "                \n",
    "                current_perplexity = compute_perplexity(validation_data, interpolated_probabilities, trigram_n_1_counts, n = 3, K = 1, V = trigram_vocab_size)\n",
    "                \n",
    "                print(\"current perplexity : \", current_perplexity, [lambda1, lambda2, lambda3])\n",
    "                print()\n",
    "                \n",
    "                if current_perplexity < best_perplexity:\n",
    "                    best_perplexity = current_perplexity\n",
    "                    best_lambdas = [lambda1, lambda2, lambda3]\n",
    "                    print(\"best perplexity : \",best_perplexity, best_lambdas)\n",
    "                    print()\n",
    "                    \n",
    "    return (best_perplexity, best_lambdas)\n",
    "    \n",
    "best_perplexity, best_lambdas = grid_search(grid_space)\n",
    "print(best_perplexity, best_lambdas)"
   ]
  },
  {
   "cell_type": "markdown",
   "metadata": {},
   "source": [
    "## below is for the validation dataset"
   ]
  },
  {
   "cell_type": "code",
   "execution_count": null,
   "metadata": {},
   "outputs": [
    {
     "name": "stdout",
     "output_type": "stream",
     "text": [
      "529.3690305594669 [0.7000000000000001, 0.30000000000000004, -1.1102230246251565e-16]\n"
     ]
    }
   ],
   "source": [
    "print(best_perplexity, best_lambdas)"
   ]
  },
  {
   "cell_type": "markdown",
   "metadata": {},
   "source": [
    "## below is for test dataset "
   ]
  },
  {
   "cell_type": "code",
   "execution_count": 13,
   "metadata": {},
   "outputs": [
    {
     "name": "stderr",
     "output_type": "stream",
     "text": [
      "Creating dict: 100%|██████████| 15602595/15602595 [00:07<00:00, 2178432.05it/s]\n",
      "interpolating probabilities....: 100%|██████████| 15602595/15602595 [01:03<00:00, 247386.37it/s]\n",
      "calculating perplexity for articles....: 100%|██████████| 100/100 [00:00<00:00, 114.31it/s]"
     ]
    },
    {
     "name": "stdout",
     "output_type": "stream",
     "text": [
      "531.9069643347831\n"
     ]
    },
    {
     "name": "stderr",
     "output_type": "stream",
     "text": [
      "\n"
     ]
    }
   ],
   "source": [
    "interpolated_probabilities = compute_interpolated_probabilities(unigram_probabilities, bigram_probabilities, trigram_probabilities, lambda1=0.7, lambda2=0.3, lambda3=0)\n",
    "print(compute_perplexity(test_data, interpolated_probabilities, trigram_n_1_counts, n = 3, K = 1, V=trigram_vocab_size))"
   ]
  }
 ],
 "metadata": {
  "kernelspec": {
   "display_name": "Python 3",
   "language": "python",
   "name": "python3"
  },
  "language_info": {
   "codemirror_mode": {
    "name": "ipython",
    "version": 3
   },
   "file_extension": ".py",
   "mimetype": "text/x-python",
   "name": "python",
   "nbconvert_exporter": "python",
   "pygments_lexer": "ipython3",
   "version": "3.12.0"
  }
 },
 "nbformat": 4,
 "nbformat_minor": 2
}
